{
 "cells": [
  {
   "cell_type": "markdown",
   "id": "28eabfe7-c54d-4691-a902-4f534f92ae02",
   "metadata": {},
   "source": [
    "# Interpretación del modelo ajustado de regresión logistica \n",
    "\n",
    "Se supondrá que el modelo está bien ajustado (mas adelante se verá como saber si esta bien ajustado)"
   ]
  },
  {
   "cell_type": "code",
   "execution_count": null,
   "id": "ed8722f5-55f4-4c7a-977f-d215f299a9fb",
   "metadata": {},
   "outputs": [],
   "source": []
  }
 ],
 "metadata": {
  "kernelspec": {
   "display_name": "Python 3",
   "language": "python",
   "name": "python3"
  },
  "language_info": {
   "codemirror_mode": {
    "name": "ipython",
    "version": 3
   },
   "file_extension": ".py",
   "mimetype": "text/x-python",
   "name": "python",
   "nbconvert_exporter": "python",
   "pygments_lexer": "ipython3",
   "version": "3.8.8"
  }
 },
 "nbformat": 4,
 "nbformat_minor": 5
}
