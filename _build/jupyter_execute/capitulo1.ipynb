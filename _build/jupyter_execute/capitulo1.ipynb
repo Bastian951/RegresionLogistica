{
 "cells": [
  {
   "cell_type": "markdown",
   "id": "9590b7a0-9e79-417b-9b85-77b3759a0ed0",
   "metadata": {},
   "source": [
    "### Librerias "
   ]
  },
  {
   "cell_type": "code",
   "execution_count": 1,
   "id": "d8bfda4a-07c0-497a-a3c8-23e42f87f9ea",
   "metadata": {},
   "outputs": [
    {
     "ename": "ModuleNotFoundError",
     "evalue": "No module named 'matplotlib'",
     "output_type": "error",
     "traceback": [
      "\u001b[1;31m---------------------------------------------------------------------------\u001b[0m",
      "\u001b[1;31mModuleNotFoundError\u001b[0m                       Traceback (most recent call last)",
      "\u001b[1;32m~\\AppData\\Local\\Temp/ipykernel_10644/347984750.py\u001b[0m in \u001b[0;36m<module>\u001b[1;34m\u001b[0m\n\u001b[1;32m----> 1\u001b[1;33m \u001b[1;32mimport\u001b[0m \u001b[0mmatplotlib\u001b[0m\u001b[1;33m.\u001b[0m\u001b[0mpyplot\u001b[0m \u001b[1;32mas\u001b[0m \u001b[0mplt\u001b[0m\u001b[1;33m\u001b[0m\u001b[1;33m\u001b[0m\u001b[0m\n\u001b[0m\u001b[0;32m      2\u001b[0m \u001b[1;32mimport\u001b[0m \u001b[0mnumpy\u001b[0m \u001b[1;32mas\u001b[0m \u001b[0mnp\u001b[0m\u001b[1;33m\u001b[0m\u001b[1;33m\u001b[0m\u001b[0m\n\u001b[0;32m      3\u001b[0m \u001b[1;32mimport\u001b[0m \u001b[0mpandas\u001b[0m \u001b[1;32mas\u001b[0m \u001b[0mpd\u001b[0m\u001b[1;33m\u001b[0m\u001b[1;33m\u001b[0m\u001b[0m\n",
      "\u001b[1;31mModuleNotFoundError\u001b[0m: No module named 'matplotlib'"
     ]
    }
   ],
   "source": [
    "import matplotlib.pyplot as plt\n",
    "import numpy as np\n",
    "import pandas as pd"
   ]
  },
  {
   "cell_type": "markdown",
   "id": "f83c13a7-c6ca-4541-9c56-23e72a797797",
   "metadata": {},
   "source": [
    "### Librerias para interactuar con R"
   ]
  },
  {
   "cell_type": "code",
   "execution_count": 2,
   "id": "5509bbd6-91be-4a40-8335-42342d6b5549",
   "metadata": {},
   "outputs": [],
   "source": [
    "import rpy2.robjects as ro\n",
    "from rpy2.robjects.packages import importr\n",
    "from rpy2.robjects import pandas2ri\n",
    "from rpy2.robjects import r\n",
    "\n",
    "\n",
    "from rpy2.robjects.conversion import localconverter"
   ]
  },
  {
   "cell_type": "markdown",
   "id": "cbdef0d3-dc18-4938-8093-0f7082498c23",
   "metadata": {},
   "source": [
    "### Convertidor DataFrame R a Pandas"
   ]
  },
  {
   "cell_type": "code",
   "execution_count": 3,
   "id": "65237586-2386-4ddc-b4b6-cc69b47b931f",
   "metadata": {},
   "outputs": [],
   "source": [
    "def dset(datasetr):\n",
    "    x=r(datasetr)\n",
    "    with localconverter(ro.default_converter + pandas2ri.converter):\n",
    "        pd_from_r_df = ro.conversion.rpy2py(x)\n",
    "        return pd_from_r_df"
   ]
  },
  {
   "cell_type": "markdown",
   "id": "48596056-c20a-4f5e-be1a-3b14748fb8ab",
   "metadata": {},
   "source": [
    "### Dataset"
   ]
  },
  {
   "cell_type": "code",
   "execution_count": 4,
   "id": "25632d99-1112-486c-a092-f4cb854c43f5",
   "metadata": {},
   "outputs": [
    {
     "data": {
      "text/html": [
       "\n",
       "<span>StrVector with 9 elements.</span>\n",
       "<table>\n",
       "<tbody>\n",
       "  <tr>\n",
       "\n",
       "    <td>\n",
       "    'aplore3'\n",
       "    </td>\n",
       "\n",
       "    <td>\n",
       "    'tools'\n",
       "    </td>\n",
       "\n",
       "    <td>\n",
       "    'stats'\n",
       "    </td>\n",
       "\n",
       "    <td>\n",
       "    ...\n",
       "    </td>\n",
       "\n",
       "    <td>\n",
       "    'datasets'\n",
       "    </td>\n",
       "\n",
       "    <td>\n",
       "    'methods'\n",
       "    </td>\n",
       "\n",
       "    <td>\n",
       "    'base'\n",
       "    </td>\n",
       "\n",
       "  </tr>\n",
       "</tbody>\n",
       "</table>\n"
      ],
      "text/plain": [
       "<rpy2.robjects.vectors.StrVector object at 0x000001D45251DAC0> [RTYPES.STRSXP]\n",
       "R classes: ('character',)\n",
       "['aplore3', 'tools', 'stats', 'graphics', ..., 'utils', 'datasets', 'methods', 'base']"
      ]
     },
     "execution_count": 4,
     "metadata": {},
     "output_type": "execute_result"
    }
   ],
   "source": [
    "r('library(aplore3)')"
   ]
  },
  {
   "cell_type": "markdown",
   "id": "4da8d36b-7c12-4d8d-9775-9d158471ec36",
   "metadata": {},
   "source": [
    "# 1. Introducción al modelo de regresión logistica"
   ]
  },
  {
   "cell_type": "markdown",
   "id": "98c592e4-0316-430b-a75b-ee02161e48b8",
   "metadata": {},
   "source": [
    "El analisis de regresión es una de las herramientas principales del analisis de datos. Frecuentemente la variable respuesta es discreta, en este caso la herramienta mas usadas es la regresión logistica. Al igual que en otros modelos de regresión, la idea es ajustar el mejor y mas parsimonioso modelo.\n",
    "Encontrar el mejor ajuste parsimonioso, modelo interpretable que describa la relación entre los input (variables independientes o predictoras) y los output (variables dependientes o respuesta). Las variables independientes son frecuentemente llamadas covariates. Una diferencia entre la regresión lineal y la regresión logistica es que la variable respuesta es binaria. Esta diferencia se refleja en la forma del modelo y en los supuestos. "
   ]
  },
  {
   "cell_type": "markdown",
   "id": "d7480478-358e-4334-8361-1c5b2046807a",
   "metadata": {},
   "source": [
    "## Ejemplo: \n",
    "\n",
    "En el libro vemos el dataset CHDAGE el cual contiene la edad, el grupo etario y si tiene riesgo o no de enfermedad cardiaca."
   ]
  },
  {
   "cell_type": "code",
   "execution_count": 5,
   "id": "f0591892-9a17-479b-8d0f-02e3262e7bd4",
   "metadata": {},
   "outputs": [],
   "source": [
    "CHDAGE = dset('chdage')"
   ]
  },
  {
   "cell_type": "code",
   "execution_count": 6,
   "id": "49a5a2f2-61b2-4d77-969a-c86b7bb0dff6",
   "metadata": {},
   "outputs": [
    {
     "data": {
      "text/html": [
       "<div>\n",
       "<style scoped>\n",
       "    .dataframe tbody tr th:only-of-type {\n",
       "        vertical-align: middle;\n",
       "    }\n",
       "\n",
       "    .dataframe tbody tr th {\n",
       "        vertical-align: top;\n",
       "    }\n",
       "\n",
       "    .dataframe thead th {\n",
       "        text-align: right;\n",
       "    }\n",
       "</style>\n",
       "<table border=\"1\" class=\"dataframe\">\n",
       "  <thead>\n",
       "    <tr style=\"text-align: right;\">\n",
       "      <th></th>\n",
       "      <th>id</th>\n",
       "      <th>age</th>\n",
       "      <th>agegrp</th>\n",
       "      <th>chd</th>\n",
       "    </tr>\n",
       "  </thead>\n",
       "  <tbody>\n",
       "    <tr>\n",
       "      <th>1</th>\n",
       "      <td>1</td>\n",
       "      <td>20</td>\n",
       "      <td>20-39</td>\n",
       "      <td>No</td>\n",
       "    </tr>\n",
       "    <tr>\n",
       "      <th>2</th>\n",
       "      <td>2</td>\n",
       "      <td>23</td>\n",
       "      <td>20-39</td>\n",
       "      <td>No</td>\n",
       "    </tr>\n",
       "    <tr>\n",
       "      <th>3</th>\n",
       "      <td>3</td>\n",
       "      <td>24</td>\n",
       "      <td>20-39</td>\n",
       "      <td>No</td>\n",
       "    </tr>\n",
       "    <tr>\n",
       "      <th>4</th>\n",
       "      <td>4</td>\n",
       "      <td>25</td>\n",
       "      <td>20-39</td>\n",
       "      <td>No</td>\n",
       "    </tr>\n",
       "    <tr>\n",
       "      <th>5</th>\n",
       "      <td>5</td>\n",
       "      <td>25</td>\n",
       "      <td>20-39</td>\n",
       "      <td>Yes</td>\n",
       "    </tr>\n",
       "  </tbody>\n",
       "</table>\n",
       "</div>"
      ],
      "text/plain": [
       "   id  age agegrp  chd\n",
       "1   1   20  20-39   No\n",
       "2   2   23  20-39   No\n",
       "3   3   24  20-39   No\n",
       "4   4   25  20-39   No\n",
       "5   5   25  20-39  Yes"
      ]
     },
     "execution_count": 6,
     "metadata": {},
     "output_type": "execute_result"
    }
   ],
   "source": [
    "CHDAGE.head(5)"
   ]
  },
  {
   "cell_type": "code",
   "execution_count": 7,
   "id": "21d3ad7c-241f-4858-9f62-527b1832e84e",
   "metadata": {},
   "outputs": [],
   "source": [
    "from sklearn.preprocessing import LabelEncoder"
   ]
  },
  {
   "cell_type": "code",
   "execution_count": 8,
   "id": "beae30c5-81c3-4a71-8805-d04fc4c466c9",
   "metadata": {},
   "outputs": [],
   "source": [
    "labelencoder = LabelEncoder()\n",
    "CHDAGE[\"chd\"]=labelencoder.fit_transform(CHDAGE[\"chd\"])\n",
    "CHDAGE[\"agegrp\"]=labelencoder.fit_transform(CHDAGE[\"agegrp\"])+1"
   ]
  },
  {
   "cell_type": "code",
   "execution_count": 9,
   "id": "aa042d19-b616-4d74-b9fb-7ef78e4cff50",
   "metadata": {},
   "outputs": [
    {
     "data": {
      "text/html": [
       "<div>\n",
       "<style scoped>\n",
       "    .dataframe tbody tr th:only-of-type {\n",
       "        vertical-align: middle;\n",
       "    }\n",
       "\n",
       "    .dataframe tbody tr th {\n",
       "        vertical-align: top;\n",
       "    }\n",
       "\n",
       "    .dataframe thead th {\n",
       "        text-align: right;\n",
       "    }\n",
       "</style>\n",
       "<table border=\"1\" class=\"dataframe\">\n",
       "  <thead>\n",
       "    <tr style=\"text-align: right;\">\n",
       "      <th></th>\n",
       "      <th>id</th>\n",
       "      <th>age</th>\n",
       "      <th>agegrp</th>\n",
       "      <th>chd</th>\n",
       "    </tr>\n",
       "  </thead>\n",
       "  <tbody>\n",
       "    <tr>\n",
       "      <th>1</th>\n",
       "      <td>1</td>\n",
       "      <td>20</td>\n",
       "      <td>1</td>\n",
       "      <td>0</td>\n",
       "    </tr>\n",
       "    <tr>\n",
       "      <th>2</th>\n",
       "      <td>2</td>\n",
       "      <td>23</td>\n",
       "      <td>1</td>\n",
       "      <td>0</td>\n",
       "    </tr>\n",
       "    <tr>\n",
       "      <th>3</th>\n",
       "      <td>3</td>\n",
       "      <td>24</td>\n",
       "      <td>1</td>\n",
       "      <td>0</td>\n",
       "    </tr>\n",
       "    <tr>\n",
       "      <th>4</th>\n",
       "      <td>4</td>\n",
       "      <td>25</td>\n",
       "      <td>1</td>\n",
       "      <td>0</td>\n",
       "    </tr>\n",
       "    <tr>\n",
       "      <th>5</th>\n",
       "      <td>5</td>\n",
       "      <td>25</td>\n",
       "      <td>1</td>\n",
       "      <td>1</td>\n",
       "    </tr>\n",
       "  </tbody>\n",
       "</table>\n",
       "</div>"
      ],
      "text/plain": [
       "   id  age  agegrp  chd\n",
       "1   1   20       1    0\n",
       "2   2   23       1    0\n",
       "3   3   24       1    0\n",
       "4   4   25       1    0\n",
       "5   5   25       1    1"
      ]
     },
     "execution_count": 9,
     "metadata": {},
     "output_type": "execute_result"
    }
   ],
   "source": [
    "CHDAGE.head(5)"
   ]
  },
  {
   "cell_type": "code",
   "execution_count": 10,
   "id": "496fbf59-18e5-40d4-bfe0-81bf7a487b0d",
   "metadata": {},
   "outputs": [
    {
     "data": {
      "text/plain": [
       "Text(0, 0.5, 'Coronary heart disease')"
      ]
     },
     "execution_count": 10,
     "metadata": {},
     "output_type": "execute_result"
    },
    {
     "data": {
      "image/png": "[encoded data removed]",
      "text/plain": [
       "<Figure size 432x288 with 1 Axes>"
      ]
     },
     "metadata": {
      "filenames": {
       "image/png": "C:\\Users\\basti\\Desktop\\books\\reglog\\_build\\jupyter_execute\\capitulo1_16_1.png"
      },
      "needs_background": "light"
     },
     "output_type": "display_data"
    }
   ],
   "source": [
    "fig, ax = plt.subplots()\n",
    "ax.scatter(CHDAGE[\"age\"],CHDAGE[\"chd\"])\n",
    "ax.set_xlabel(\"age\")\n",
    "ax.set_ylabel(\"Coronary heart disease\")"
   ]
  },
  {
   "cell_type": "markdown",
   "id": "2283c7c0-f321-4a59-bc7a-78dcf224b322",
   "metadata": {},
   "source": [
    "Notemos que plotear edad vs chd no aporta información valiosa, no vemos con claridad una relación entre las variables"
   ]
  },
  {
   "cell_type": "markdown",
   "id": "781bb1b1-3d96-45ca-b7db-f965788b0668",
   "metadata": {},
   "source": [
    "Para remover la variación de los datos podemos agrupar las edades y calcular el promedio. De esta forma empieza a verse una relación. Al aumentar la edad aumentan las probabilidades de enfermedad cardiaca"
   ]
  },
  {
   "cell_type": "code",
   "execution_count": 11,
   "id": "211c99fc-43de-4778-a74c-4e260070ce1a",
   "metadata": {},
   "outputs": [],
   "source": [
    "CHDAGE_gby = CHDAGE[[\"age\",\"chd\",\"agegrp\"]].groupby(\"agegrp\").agg('mean')"
   ]
  },
  {
   "cell_type": "code",
   "execution_count": 12,
   "id": "fb892d6d-bc05-4103-adba-00b8eeb96295",
   "metadata": {},
   "outputs": [
    {
     "data": {
      "text/plain": [
       "Text(0, 0.5, 'Coronary heart disease (mean)')"
      ]
     },
     "execution_count": 12,
     "metadata": {},
     "output_type": "execute_result"
    },
    {
     "data": {
      "image/png": "[encoded data removed]",
      "text/plain": [
       "<Figure size 432x288 with 1 Axes>"
      ]
     },
     "metadata": {
      "filenames": {
       "image/png": "C:\\Users\\basti\\Desktop\\books\\reglog\\_build\\jupyter_execute\\capitulo1_20_1.png"
      },
      "needs_background": "light"
     },
     "output_type": "display_data"
    }
   ],
   "source": [
    "fig, ax = plt.subplots()\n",
    "ax.plot(CHDAGE_gby[\"age\"],CHDAGE_gby[\"chd\"],'-o')\n",
    "ax.set_xlabel(\"age\")\n",
    "ax.set_ylabel(\"Coronary heart disease (mean)\")"
   ]
  },
  {
   "cell_type": "markdown",
   "id": "03941143-2f95-4a9e-a10a-cd50a6272350",
   "metadata": {},
   "source": [
    "Notemos que estamos estimando $\\mathbb{E}(Y|x)$. La curva tiene forma de S y se comporta como una distribución acumulada. Esta distribución acumulada esta basada en la distribución logistica.\n",
    "Existen muchas distribuciones con variable dependiente binaria (vease Cox and Snell (1989)). Sin embargo la distribución logistica es simple y flexible, ademas de ser un modelo interpretable. \n"
   ]
  },
  {
   "cell_type": "markdown",
   "id": "460f5d26-fb4c-40d2-a782-4b3b5214448d",
   "metadata": {},
   "source": [
    "## Distribución logistica\n",
    "\n",
    "$$\\pi(x) = \\mathbb{E}(Y|x) = \\frac{e^{\\beta_0+\\beta_1x}}{1+e^{\\beta_0+\\beta_1x}}$$"
   ]
  },
  {
   "cell_type": "markdown",
   "id": "e878cab2-cd07-4665-aebc-b40845acc0be",
   "metadata": {},
   "source": [
    "Notemos que a diferencia de la distribución normal, en donde escribimos\n",
    "\n",
    "$$y = \\mathbb{E}(Y|x) +\\epsilon$$\n",
    "\n",
    "y asumimos que $\\epsilon \\sim \\mathcal{N}(0,\\sigma) $ y se concluye que $Y|x$ distribuye normal con media $\\mathbb{E}(Y|x)$ y varianza constante. En la regresión logistica los errores no pueden distribuir normal, pues tienen dos valores posibles. Notemos que escribimos\n",
    "\n",
    "$$y = \\pi(x) + \\epsilon$$\n",
    "\n",
    "Entonces $\\epsilon = y-\\pi(x)$. Si $y=1$ entonces $\\epsilon = 1-\\pi(x)$ con probabilidad $\\pi(x)$ y si $y=0$ entonces $\\epsilon = -\\pi(x)$ con probabilidad $1-\\pi(x)$\n",
    " \n",
    "Por lo tanto $Y|x$ sigue una distribución binomial con media $\\pi(x)$"
   ]
  },
  {
   "cell_type": "markdown",
   "id": "c1e0f8a6-e783-4621-aa46-8829abf49c2b",
   "metadata": {},
   "source": [
    "## 1.2 Ajustando la regresión logística\n",
    "\n",
    "Tenemos $n$ observaciones independientes de el par $(x_i,y_i)$. Donde $y_i$ toma dos valores (la presencia o la ausencia de una caracteristica), diremos que toma el valor 0 o 1. \n",
    "A diferencia de la regresión lineal, la cual se puede ajustar mediante minimos cuadrados y se obtiene un numero deseable de propiedades, esto no pasa con la logistica. Por lo que la forma de ajustar la regresión es mediante el maximum likelihood.\n",
    "\n",
    "$$L(\\mathbb{\\beta}) = \\prod_{i=1}^n \\pi(x_i)^{y_i}(1-\\pi(x_i))^{1-y_i} $$\n",
    "\n",
    "$$LogL(\\mathbb{\\beta}) = \\sum_{i=1}^n  y_i log(\\pi(x_i) + (1-y_i)log(1-\\pi(x_i))$$\n",
    "\n",
    "Al derivar e igualar a 0 obtenemos las siguientes ecuaciones\n",
    "\n",
    "$$\\sum_{i=1}^n y_i - \\pi(x_i) = 0$$\n",
    "\n",
    "$$\\sum_{i=1}^n (y_i - \\pi(x_i))x_i = 0$$"
   ]
  },
  {
   "cell_type": "markdown",
   "id": "9e7e7f73-d874-4bf6-a38a-f9ce512f2e1a",
   "metadata": {},
   "source": [
    "Las ecuaciones obtenidas son no lineales en $\\beta_0$ y $\\beta_1$, por lo que para resolverlas necesitaremos metodos iterativos"
   ]
  },
  {
   "cell_type": "markdown",
   "id": "721c75ca-b326-4d75-83ed-a6d95ae96659",
   "metadata": {},
   "source": [
    "Mediante sklearn podemos calcular $\\beta_0$ y $\\beta_1$ del ejemplo anterior. Sin embargo con statsmodel podemos hacer un analisis completo, mas parecido a lo que obtenemos en R"
   ]
  },
  {
   "cell_type": "code",
   "execution_count": 13,
   "id": "8f911c9a-7983-421c-b1a2-d108eab1c6b9",
   "metadata": {},
   "outputs": [
    {
     "name": "stdout",
     "output_type": "stream",
     "text": [
      "Optimization terminated successfully.\n",
      "         Current function value: 0.536765\n",
      "         Iterations 6\n",
      "                           Logit Regression Results                           \n",
      "==============================================================================\n",
      "Dep. Variable:                    chd   No. Observations:                  100\n",
      "Model:                          Logit   Df Residuals:                       98\n",
      "Method:                           MLE   Df Model:                            1\n",
      "Date:                Thu, 01 Jul 2021   Pseudo R-squ.:                  0.2145\n",
      "Time:                        21:40:12   Log-Likelihood:                -53.677\n",
      "converged:                       True   LL-Null:                       -68.331\n",
      "Covariance Type:            nonrobust   LLR p-value:                 6.168e-08\n",
      "==============================================================================\n",
      "                 coef    std err          z      P>|z|      [0.025      0.975]\n",
      "------------------------------------------------------------------------------\n",
      "const         -5.3095      1.134     -4.683      0.000      -7.531      -3.088\n",
      "age            0.1109      0.024      4.610      0.000       0.064       0.158\n",
      "==============================================================================\n"
     ]
    }
   ],
   "source": [
    "import statsmodels.api as sm\n",
    "from statsmodels.tools.tools import add_constant\n",
    "\n",
    "log_reg = sm.Logit(CHDAGE[\"chd\"],add_constant(CHDAGE[\"age\"])).fit()\n",
    "print(log_reg.summary())"
   ]
  },
  {
   "cell_type": "code",
   "execution_count": 14,
   "id": "b792fa89-9e2d-4282-ade6-459ac5c5c1d9",
   "metadata": {},
   "outputs": [],
   "source": [
    "from sklearn import linear_model"
   ]
  },
  {
   "cell_type": "code",
   "execution_count": 15,
   "id": "2f6e49c9-50e4-44b4-9df8-8010503e8aba",
   "metadata": {},
   "outputs": [
    {
     "data": {
      "text/plain": [
       "LogisticRegression()"
      ]
     },
     "execution_count": 15,
     "metadata": {},
     "output_type": "execute_result"
    }
   ],
   "source": [
    "model = linear_model.LogisticRegression()\n",
    "model.fit(CHDAGE[\"age\"].to_numpy().reshape(-1,1),CHDAGE[\"chd\"])"
   ]
  },
  {
   "cell_type": "code",
   "execution_count": 16,
   "id": "730832d4-e6ba-4436-8988-4d8710104b8b",
   "metadata": {},
   "outputs": [
    {
     "data": {
      "text/plain": [
       "array([[0.1108579]])"
      ]
     },
     "execution_count": 16,
     "metadata": {},
     "output_type": "execute_result"
    }
   ],
   "source": [
    "model.coef_"
   ]
  },
  {
   "cell_type": "code",
   "execution_count": 17,
   "id": "f94075b4-9cea-4ef5-9c92-2f47362cd015",
   "metadata": {},
   "outputs": [
    {
     "data": {
      "text/plain": [
       "array([-5.30653265])"
      ]
     },
     "execution_count": 17,
     "metadata": {},
     "output_type": "execute_result"
    }
   ],
   "source": [
    "model.intercept_"
   ]
  },
  {
   "cell_type": "markdown",
   "id": "3700dbb6-e519-4c3e-bd2a-9d184682963f",
   "metadata": {},
   "source": [
    "Luego \n",
    "$$\\hat{\\pi}(x_i) = \\frac{e^{0.1108579x_i-5.30653265}}{1+e^{0.1108579x_i-5.30653265}}$$"
   ]
  },
  {
   "cell_type": "markdown",
   "id": "8e870313-e7c0-433e-beb4-0ce8106d9f0e",
   "metadata": {},
   "source": [
    "## 1.3 Test de hipotesis\n",
    "\n",
    "Una pregunta que nos hacemos es, ¿El modelo que incluye la variable nos explica mas sobre la respuesta que el modelo sin la variable?\n",
    "\n",
    "Si los valores predichos por el modelo con la variable son mejores, mas precisos en algun sentido que los valores predichos por el modelo sin la variable entonces decimos que la variable es significante"
   ]
  },
  {
   "cell_type": "markdown",
   "id": "dc4ceacc-09c4-432e-9a7d-cecb58a9ef9f",
   "metadata": {},
   "source": [
    "En la regresión lineal se evalua la significancia del parametro $\\beta_1$ mediante el ANOVA.  En regresión logistica utilizamos un test basado en el likelihood ratio \n",
    "\n",
    "$$D= -2log\\left[\\frac{\\text{Likelihood del modelo ajustado}}{\\text{Likelihood del modelo saturado}} \\right]$$\n",
    "\n",
    "Un modelo saturado es un modelo que tiene tantos datos como parametros.\n",
    "\n"
   ]
  },
  {
   "cell_type": "markdown",
   "id": "0b5cfb5e-8a4c-44ba-b08c-7a1402f8a634",
   "metadata": {},
   "source": [
    "$$D = -2log\\left[\\prod_{i=1}^n \\frac{\\hat{ \\pi}(x_i)^{y_i}(1-\\hat{\\pi}(x_i))^{1-y_i}}{y_i^{y_i}(1-y_i)^{1-y_i}}\\right] = -2\\sum_{i=1}^n \\left[ y_i log\\left( \\frac{\\hat{\\pi}(x_i)}{y_i} \\right)+ (1-y_i)\\log\\left(\\frac{1-\\hat{\\pi}(x_i)}{1-y_i}\\right)\\right] $$"
   ]
  },
  {
   "cell_type": "markdown",
   "id": "3c505dfa-dea9-4f2f-9f85-c69132a5031f",
   "metadata": {},
   "source": [
    "El estadistico $D$ es llamado deviance. \n",
    "\n",
    "Para el modelo saturado tenemos que $Y_i$ toma el valor 0 o 1, por lo que el estimador $\\hat{\\pi}_i \\in \\{0,1\\}$. Luego es claro que el likelihood es 1\n",
    "\n",
    "$$LogL(\\text{Modelo saturado})= \\prod_{i=1}^n y_i^{y_i}(1-y_i)^{1-y_i} = 1$$\n",
    "\n",
    "Esto se debe a que si $y_i = 0$ entonces $0^01^1=1$ y si $y_i=1$ entonces $1^10^0=1$\n",
    "\n",
    "Entonces podemos escribir\n",
    "\n",
    "$$D= -2log\\left[\\text{Likelihood del modelo ajustado} \\right]$$"
   ]
  },
  {
   "cell_type": "markdown",
   "id": "a7c79933-b228-4796-a4e3-785e8bfc3470",
   "metadata": {},
   "source": [
    "Para evaluar la significancia de una variable independiente comparamos la devianza del modelo con y sin la variable.\n",
    "\n",
    "\\begin{align*} G &= -2\\log\\left[ D(\\text{Modelo sin la variable})-D(\\text{Modelo con la variable})\\right]\\\\\n",
    "&= -2\\log\\left[\\frac{\\text{Likelihood modelo sin la variable}}{\\text{Likelihood modelo con la variable}} \\right]\\end{align*}"
   ]
  },
  {
   "cell_type": "markdown",
   "id": "15aa69aa-ddcb-421f-ba85-ea9682dd93ad",
   "metadata": {},
   "source": [
    "Likelihood modelo sin la variable $\\beta_1$:\n",
    "\n",
    "Nos queda la ecuación $$\\sum_{i=1}^n y_i - n\\frac{e^{\\beta_0}}{1+e^{\\beta_0}} = 0$$\n",
    "\n",
    "Trabajando un poco la ecuación llegamos a \n",
    "\n",
    "$$$$\n"
   ]
  },
  {
   "cell_type": "markdown",
   "id": "2a7310dc-181c-40c2-84ad-28dc7202e6e6",
   "metadata": {},
   "source": [
    "$$(1+e^{\\beta_0})\\sum_{i=1}^n y_i = ne^{\\beta_0} $$"
   ]
  },
  {
   "cell_type": "markdown",
   "id": "16a4a83a-5180-4879-8b05-7d1456852249",
   "metadata": {},
   "source": [
    "$$\\sum_{i=1}^n y_i + e^{\\beta_0}\\sum_{i=1}^n y_i = ne^{\\beta_0}$$\n",
    "\n",
    "$$\\sum_{i=1}^n y_i = e^{\\beta_0}(n - \\sum_{i=1}^n y_i)$$\n",
    "\n",
    "$$\\sum_{i=1}^n y_i = e^{\\beta_0}(\\sum_{i=1}^n 1-y_i)$$\n",
    "\n",
    "Por lo tanto\n",
    "\n",
    "$$\\hat{\\beta}_0 = \\log\\left(\\frac{\\sum_{i=1}^n y_i}{\\sum_{i=1}^n 1-y_i}\\right)$$"
   ]
  },
  {
   "cell_type": "markdown",
   "id": "a4a946db-7a4b-4fa5-b56c-75aeb1676bf5",
   "metadata": {},
   "source": [
    "definamos $n_1 = \\sum_{i=1}^n y_i$ y $n_0 = \\sum_{i=1}^n 1-y_i$.\n",
    "\n",
    "Ahora podemos escribir $G$ como"
   ]
  },
  {
   "cell_type": "markdown",
   "id": "592594b9-4408-4b86-8eed-b68c6e612309",
   "metadata": {},
   "source": [
    "Notemos que el likelihood del modelo sin $\\beta_1$ es \n",
    "\n",
    "$$\\left(\\frac{n_1}{n}\\right)^{n_1}\\left(\\frac{n_0}{n}\\right)^{n_0}$$\n",
    "\n",
    "Luego \n",
    "\n",
    "\\begin{align*} G &= -2\\log\\left[ \\frac{\\left(\\frac{n_1}{n}\\right)^{n_1}\\left(\\frac{n_0}{n}\\right)^{n_0}}{\\prod_{i=1}^n \\hat{\\pi}(x_i)^{y_i}(1-\\hat{\\pi}(x_i))^{1-y_i} }\\right]\\\\\n",
    "&= 2\\left\\{ \\sum_{i=1}^n\\left[ y_i log(\\hat{\\pi}(x_i))+(1-y_i)log(1-\\hat{\\pi}(x_i))\\right]-\\left[n_1\\log(n_1)+n_0\\log(n_0)-n\\log(n)\\right]\\right\\}\\end{align*}"
   ]
  },
  {
   "cell_type": "markdown",
   "id": "3afbb2e7-b6f4-43f5-adc7-1714ce8c0ea3",
   "metadata": {},
   "source": [
    "En **The Large-Sample Distribution of the Likelihood Ratio for Testing Composite Hypotheses - Wilks** (hard) se demuestra que el likelihood ratio distribuye chi cuadrado con un grado de libertad"
   ]
  },
  {
   "cell_type": "markdown",
   "id": "8afba40f-5ac9-4eaf-b336-3b244253b563",
   "metadata": {},
   "source": [
    "## Ejemplo:\n",
    "Volviendo al ejemplo CHDAGE veremos si la edad es significante"
   ]
  },
  {
   "cell_type": "code",
   "execution_count": 18,
   "id": "6ed3547f-e94f-4b77-9116-2410e7856d78",
   "metadata": {},
   "outputs": [],
   "source": [
    "def pi(x):\n",
    "    return np.exp(model.intercept_+model.coef_*x)/(1+np.exp(model.intercept_+model.coef_*x))"
   ]
  },
  {
   "cell_type": "code",
   "execution_count": 19,
   "id": "b667358b-d77b-486a-9989-a91c8cc26d4b",
   "metadata": {},
   "outputs": [
    {
     "data": {
      "text/plain": [
       "array([[29.30988311]])"
      ]
     },
     "execution_count": 19,
     "metadata": {},
     "output_type": "execute_result"
    }
   ],
   "source": [
    "y=CHDAGE[\"chd\"]\n",
    "x=CHDAGE[\"age\"]\n",
    "llk_con_b1 = sum(y[i]*np.log(pi(x[i]))+(1-y[i])*np.log(1-pi(x[i]))  for i in range(0,100))\n",
    "n1 = np.sum(y)\n",
    "n = y.shape[0]\n",
    "n0 = n-n1\n",
    "llk_sin_b1 = n1*np.log(n1)+n0*np.log(n0)-n*np.log(n)\n",
    "\n",
    "def lrt(llk,ll2):    \n",
    "    return 2*(llk-ll2)\n",
    "\n",
    "lrt(llk_con_b1,llk_sin_b1)"
   ]
  },
  {
   "cell_type": "markdown",
   "id": "306d6e4a-eada-46f5-a817-d3879f142837",
   "metadata": {},
   "source": [
    "Mediante el likelihood ratio test obtenemos 29.31, ahora comparamos con la chi cuadrado de un g"
   ]
  },
  {
   "cell_type": "code",
   "execution_count": 1,
   "id": "00726fe4-87bd-4461-86ec-1bc85dfbbc6d",
   "metadata": {},
   "outputs": [
    {
     "data": {
      "text/plain": [
       "6.167658239686347e-08"
      ]
     },
     "execution_count": 1,
     "metadata": {},
     "output_type": "execute_result"
    }
   ],
   "source": [
    "from scipy.stats import chi2\n",
    "\n",
    "1-chi2.cdf(29.31,1)"
   ]
  },
  {
   "cell_type": "markdown",
   "id": "3918663b-217d-4190-a541-7decbe06839c",
   "metadata": {},
   "source": [
    "El valor de la chi cuadrado es menor a 0.001 por lo que concluimos que la variable es significante."
   ]
  },
  {
   "cell_type": "markdown",
   "id": "e2357cec-1cd6-42a0-b466-e34713e3acb1",
   "metadata": {},
   "source": [
    "Mediante statsmodel podemos obtener el likelihood ratio rapidamente"
   ]
  },
  {
   "cell_type": "code",
   "execution_count": 21,
   "id": "8f20fc0a-7f26-42fa-a6c2-04f5780b7bec",
   "metadata": {},
   "outputs": [
    {
     "name": "stdout",
     "output_type": "stream",
     "text": [
      "El loglikelihood del modelo con beta_1 es: -53.67654634715637\n",
      "El loglikelihood del modelo sin beta_1 es: -68.33149136438628\n",
      "El likelihood ratio es -2(llnull-llf): 29.309890034459826\n",
      "Con un p-value de: 6.168008258338603e-08\n"
     ]
    }
   ],
   "source": [
    "print(\"El loglikelihood del modelo con beta_1 es:\", log_reg.llf)\n",
    "print(\"El loglikelihood del modelo sin beta_1 es:\", log_reg.llnull)\n",
    "print(\"El likelihood ratio es -2(llnull-llf):\", log_reg.llr)\n",
    "print(\"Con un p-value de:\",log_reg.llr_pvalue)"
   ]
  },
  {
   "cell_type": "markdown",
   "id": "0d50df82-dcd6-4b2c-8a06-41f68f05e476",
   "metadata": {},
   "source": [
    "Otro test que se puede usar es el Wald test.\n",
    "\n",
    "$$W = \\frac{\\hat{\\beta}_1}{\\hat{SE}(\\hat{\\beta}_1)}$$\n",
    "\n",
    "\n",
    "\n",
    "\n",
    "Sin embargo Hauck y Donner en 1977 demostraron que se comporta mal (No rechaza en casos que el likelihood ratio test rechaza) por lo que se recomienda usar el Likelihood ratio test"
   ]
  },
  {
   "cell_type": "markdown",
   "id": "5ee8b202-6d5f-4d4e-8072-b77e3c6b3c95",
   "metadata": {},
   "source": [
    "Podemos obtenerlo inmediatamente con statsmodel pero **Cuidado** el wald test de statsmodel es $W^2$, este estadistico distribuye chi cuadrado (El estadistico $Z$ de la tabla de statsmodel es $W$, pero la función wald test es $W^2$ )."
   ]
  },
  {
   "cell_type": "code",
   "execution_count": 22,
   "id": "26b65e74-8dd8-4586-890d-c3f24f20991d",
   "metadata": {},
   "outputs": [
    {
     "name": "stdout",
     "output_type": "stream",
     "text": [
      "Wald test: <Wald test (chi2): statistic=[[21.25413062]], p-value=4.022426158286923e-06, df_denom=1>\n"
     ]
    }
   ],
   "source": [
    "print(\"Wald test:\",log_reg.wald_test(\"age=0\"))"
   ]
  },
  {
   "cell_type": "markdown",
   "id": "59e4649e-1d01-4185-86de-cc3402e67ebf",
   "metadata": {},
   "source": [
    "Otro test es el Score test el cual es basado en la distribución teorica de las derivadas del loglikelihood\n",
    "\n",
    "$$ST = \\frac{\\sum_{i=1}^nx_i(y_i-\\bar{y})}{\\sqrt{\\bar{y}(1-\\bar{y})\\sum_{i=1}^n(x_i-\\bar{x})^2}}$$"
   ]
  },
  {
   "cell_type": "code",
   "execution_count": 23,
   "id": "2577a2d3-1fcc-44d9-92cc-50dc83d68319",
   "metadata": {},
   "outputs": [
    {
     "data": {
      "text/plain": [
       "5.1379867024501955"
      ]
     },
     "execution_count": 23,
     "metadata": {},
     "output_type": "execute_result"
    }
   ],
   "source": [
    "ST = sum(x[i]*(y[i]-y.mean()) for i in range(0,100))/np.sqrt(y.mean()*(1-y.mean())*sum((x[i]-x.mean())**2 for i in range(0,100)))\n",
    "ST"
   ]
  },
  {
   "cell_type": "code",
   "execution_count": 3,
   "id": "1711df27-4555-491f-9717-faeb913b6d7f",
   "metadata": {},
   "outputs": [
    {
     "data": {
      "text/plain": [
       "1.3884876359782083e-07"
      ]
     },
     "execution_count": 3,
     "metadata": {},
     "output_type": "execute_result"
    }
   ],
   "source": [
    "from scipy.stats import norm\n",
    "\n",
    "1-norm.cdf(5.1379867024501955)"
   ]
  },
  {
   "cell_type": "markdown",
   "id": "04a3a253-0869-434c-974f-3ff40f3ad9c7",
   "metadata": {},
   "source": [
    "## 1.4 Intervalos de confianza"
   ]
  },
  {
   "cell_type": "markdown",
   "id": "d3b2c845-9bcf-403e-8f8a-550e266f2c45",
   "metadata": {},
   "source": [
    "Frecuentemente los intervalos de confianza estimados están basados en el Wald test\n",
    "\n",
    "$$\\hat{\\beta}_1 \\pm z_{1-\\alpha/2}\\hat{SE}(\\hat{\\beta}_1)$$\n",
    "\n",
    "y\n",
    "\n",
    "$$\\hat{\\beta}_0 \\pm z_{1-\\alpha/2}\\hat{SE}(\\hat{\\beta}_0)$$\n",
    "\n",
    "**Observación:** Los $SE$ (standard error) pueden ser obtenidos con statsmodel, la formula la veremos mas adelante en regresión logistica multivariada\n",
    "\n",
    "## Ejemplo\n"
   ]
  },
  {
   "cell_type": "code",
   "execution_count": 57,
   "id": "99ca4409-70f8-4b0f-b4f8-3df0147ed987",
   "metadata": {},
   "outputs": [],
   "source": [
    "def inter_conf(beta_i,se,alpha):\n",
    "    z=norm.interval(1-alpha) \n",
    "    return beta_i + z[0]*se, beta_i + z[1]*se"
   ]
  },
  {
   "cell_type": "markdown",
   "id": "9ba7d6b3-cab8-4412-953e-61eafc43f127",
   "metadata": {},
   "source": [
    "Intervalo de $\\hat{\\beta}_1$"
   ]
  },
  {
   "cell_type": "code",
   "execution_count": 58,
   "id": "6285ef76-311e-4a6e-b1ec-87c9306514cd",
   "metadata": {},
   "outputs": [
    {
     "data": {
      "text/plain": [
       "(0.0638608643710387, 0.15793913562896128)"
      ]
     },
     "execution_count": 58,
     "metadata": {},
     "output_type": "execute_result"
    }
   ],
   "source": [
    "inter_conf(0.1109,0.024,0.05)"
   ]
  },
  {
   "cell_type": "markdown",
   "id": "de853b7f-1581-47dc-9d63-bcb06a68ce9b",
   "metadata": {},
   "source": [
    "Intervalo de $\\hat{\\beta}_0$"
   ]
  },
  {
   "cell_type": "code",
   "execution_count": 59,
   "id": "50836fee-ef7a-4452-b8d8-484762404330",
   "metadata": {},
   "outputs": [
    {
     "data": {
      "text/plain": [
       "(-7.532099158468421, -3.0869008415315786)"
      ]
     },
     "execution_count": 59,
     "metadata": {},
     "output_type": "execute_result"
    }
   ],
   "source": [
    "inter_conf(-5.3095,1.134,0.05)"
   ]
  },
  {
   "cell_type": "markdown",
   "id": "614e7741-e718-4f82-8376-d0121b24842c",
   "metadata": {},
   "source": [
    "Statsmodel retorna automaticamente este resultado:\n",
    "\n",
    "Para $\\hat{\\beta}_1$ valor del Zscore = 4.610 y el intervalo [0.064,0.158]. Para $\\hat{\\beta}_0$ valor del Zscore = -4.683 y el intervalo [-7.531,-3.088] "
   ]
  },
  {
   "cell_type": "markdown",
   "id": "2352fa37-f990-46fb-a73b-cd2bbc0cee9b",
   "metadata": {},
   "source": [
    "## Intervalo de confianza para el logit\n",
    "\n",
    "Recordemos que el estimador del logit es \n",
    "\n",
    "$$\\hat{g}(x) = \\hat{\\beta}_0 + \\hat{\\beta}_1 x_1$$\n",
    "\n",
    "Luego el estimador de la varianza es \n",
    "\n",
    "$$\\hat{\\mathbb{V}}(\\hat{g}(x))=\\hat{\\mathbb{V}}(\\hat{\\beta}_0)+x^2\\hat{\\mathbb{V}}(\\hat{\\beta}_1)+2x\\hat{cov}(\\hat{\\beta}_0,\\hat{\\beta}_1)$$\n",
    "\n",
    "Luego el intervalo de confianza para el logit es \n",
    "\n",
    "$$\\hat{g}(x) \\pm z_{1-\\alpha/2}\\hat{SE}[\\hat{g}(x)]$$"
   ]
  },
  {
   "cell_type": "code",
   "execution_count": null,
   "id": "cf50a085-5a81-4ffb-bcef-3612f25dcecb",
   "metadata": {},
   "outputs": [],
   "source": []
  }
 ],
 "metadata": {
  "kernelspec": {
   "display_name": "Python 3",
   "language": "python",
   "name": "python3"
  },
  "language_info": {
   "codemirror_mode": {
    "name": "ipython",
    "version": 3
   },
   "file_extension": ".py",
   "mimetype": "text/x-python",
   "name": "python",
   "nbconvert_exporter": "python",
   "pygments_lexer": "ipython3",
   "version": "3.9.1"
  }
 },
 "nbformat": 4,
 "nbformat_minor": 5
}